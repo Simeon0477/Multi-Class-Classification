{
 "cells": [
  {
   "cell_type": "markdown",
   "id": "d621fdf1",
   "metadata": {},
   "source": [
    "**Importation des librairies nécessaires**"
   ]
  },
  {
   "cell_type": "code",
   "execution_count": 8,
   "id": "2e008e65",
   "metadata": {},
   "outputs": [],
   "source": [
    "import matplotlib.pyplot as plt\n",
    "from sklearn import datasets\n",
    "from sklearn.model_selection import train_test_split\n",
    "from sklearn.svm import SVC\n",
    "from sklearn.metrics import classification_report, confusion_matrix"
   ]
  },
  {
   "cell_type": "markdown",
   "id": "4720e136",
   "metadata": {},
   "source": [
    "**Chargement du dataset**"
   ]
  },
  {
   "cell_type": "code",
   "execution_count": 9,
   "id": "f123d1fc",
   "metadata": {},
   "outputs": [],
   "source": [
    "digits = datasets.load_digits()"
   ]
  },
  {
   "cell_type": "markdown",
   "id": "79a0cc1d",
   "metadata": {},
   "source": [
    "**Visualisation de quelques exemples**"
   ]
  },
  {
   "cell_type": "code",
   "execution_count": 10,
   "id": "7befd5a7",
   "metadata": {},
   "outputs": [
    {
     "data": {
      "image/png": "[encoded data removed]",
      "text/plain": [
       "<Figure size 1000x300 with 5 Axes>"
      ]
     },
     "metadata": {},
     "output_type": "display_data"
    }
   ],
   "source": [
    "fig, axes  =  plt.subplots(1, 5, figsize = (10, 3))\n",
    "\n",
    "for i, ax in enumerate(axes):\n",
    "    ax.imshow(digits.images[i], cmap = 'gray')\n",
    "    ax.set_title(f\"Label : {digits.target[i]}\")\n",
    "    ax.axis('off')\n",
    "    \n",
    "plt.show()"
   ]
  },
  {
   "cell_type": "markdown",
   "id": "26c6a77a",
   "metadata": {},
   "source": [
    "**Préparation des données**"
   ]
  },
  {
   "cell_type": "code",
   "execution_count": 11,
   "id": "ccc84ccb",
   "metadata": {},
   "outputs": [],
   "source": [
    "X = digits.data\n",
    "y = digits.target\n",
    "\n",
    "X_train, X_test, y_train, y_test = train_test_split(X, y, test_size = 0.3, random_state = 42)"
   ]
  },
  {
   "cell_type": "markdown",
   "id": "223b57dd",
   "metadata": {},
   "source": [
    "**Entrainement du modèle**"
   ]
  },
  {
   "cell_type": "code",
   "execution_count": 12,
   "id": "3d070b1f",
   "metadata": {},
   "outputs": [],
   "source": [
    "model = SVC(gamma = 0.001, C = 100)\n",
    "model.fit(X_train, y_train)\n",
    "\n",
    "y_pred = model.predict(X_test)"
   ]
  },
  {
   "cell_type": "markdown",
   "id": "28cd3ff8",
   "metadata": {},
   "source": [
    "**Evaluation du modèle**"
   ]
  },
  {
   "cell_type": "code",
   "execution_count": 13,
   "id": "9f69652d",
   "metadata": {},
   "outputs": [
    {
     "name": "stdout",
     "output_type": "stream",
     "text": [
      "Résultat de la classification : \n",
      "\n",
      "Rapport de classification : \n",
      "               precision    recall  f1-score   support\n",
      "\n",
      "           0       1.00      1.00      1.00        53\n",
      "           1       1.00      1.00      1.00        50\n",
      "           2       1.00      1.00      1.00        47\n",
      "           3       0.98      0.96      0.97        54\n",
      "           4       1.00      1.00      1.00        60\n",
      "           5       0.99      1.00      0.99        66\n",
      "           6       1.00      1.00      1.00        53\n",
      "           7       0.98      0.98      0.98        55\n",
      "           8       0.98      1.00      0.99        43\n",
      "           9       0.98      0.97      0.97        59\n",
      "\n",
      "    accuracy                           0.99       540\n",
      "   macro avg       0.99      0.99      0.99       540\n",
      "weighted avg       0.99      0.99      0.99       540\n",
      " \n",
      "\n",
      "Matrice  de confusion : \n",
      " [[53  0  0  0  0  0  0  0  0  0]\n",
      " [ 0 50  0  0  0  0  0  0  0  0]\n",
      " [ 0  0 47  0  0  0  0  0  0  0]\n",
      " [ 0  0  0 52  0  1  0  0  1  0]\n",
      " [ 0  0  0  0 60  0  0  0  0  0]\n",
      " [ 0  0  0  0  0 66  0  0  0  0]\n",
      " [ 0  0  0  0  0  0 53  0  0  0]\n",
      " [ 0  0  0  0  0  0  0 54  0  1]\n",
      " [ 0  0  0  0  0  0  0  0 43  0]\n",
      " [ 0  0  0  1  0  0  0  1  0 57]] \n",
      "\n"
     ]
    }
   ],
   "source": [
    "print(\"Résultat de la classification : \\n\")\n",
    "print(\"Rapport de classification : \\n\", classification_report(y_test, y_pred), \"\\n\")\n",
    "print(\"Matrice  de confusion : \\n\", confusion_matrix(y_test, y_pred), \"\\n\")"
   ]
  },
  {
   "cell_type": "markdown",
   "id": "4c2a1ef8",
   "metadata": {},
   "source": [
    "**Visualisation des prédictions correctes/ incorrects**"
   ]
  },
  {
   "cell_type": "code",
   "execution_count": 14,
   "id": "e9552304",
   "metadata": {},
   "outputs": [
    {
     "data": {
      "image/png": "[encoded data removed]",
      "text/plain": [
       "<Figure size 1000x300 with 5 Axes>"
      ]
     },
     "metadata": {},
     "output_type": "display_data"
    }
   ],
   "source": [
    "fig, axes = plt.subplots(1, 5, figsize = (10, 3))\n",
    "\n",
    "for i, ax in enumerate(axes):\n",
    "    ax.imshow(X_test[i].reshape(8, 8), cmap = 'gray')\n",
    "    ax.set_title(f\"P : {y_pred[i]} / V : {y_test[i]}\")\n",
    "    ax.axis('off')\n",
    "    \n",
    "plt.show()"
   ]
  }
 ],
 "metadata": {
  "kernelspec": {
   "display_name": "Python 3",
   "language": "python",
   "name": "python3"
  },
  "language_info": {
   "codemirror_mode": {
    "name": "ipython",
    "version": 3
   },
   "file_extension": ".py",
   "mimetype": "text/x-python",
   "name": "python",
   "nbconvert_exporter": "python",
   "pygments_lexer": "ipython3",
   "version": "3.12.2"
  }
 },
 "nbformat": 4,
 "nbformat_minor": 5
}
